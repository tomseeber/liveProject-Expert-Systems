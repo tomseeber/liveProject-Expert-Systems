{
 "cells": [
  {
   "cell_type": "markdown",
   "id": "43c0c6f9",
   "metadata": {},
   "source": [
    "# 1_animal_game"
   ]
  },
  {
   "cell_type": "code",
   "execution_count": 4,
   "id": "9348d1c9",
   "metadata": {},
   "outputs": [],
   "source": [
    "from copy import copy\n",
    "\n",
    "class AnimalNode:\n",
    "    def __init__(self, question):\n",
    "        self.question = question\n",
    "        self.yes_child = None\n",
    "        self.no_child = None\n",
    "\n",
    "    # Return 'a' or 'an' as appropriate for this animal's name.\n",
    "    def article(self):\n",
    "        vowels = ('a', 'e', 'i', 'o','u')\n",
    "        if self.question[0] in vowels:\n",
    "            return 'an'\n",
    "        else:\n",
    "            return 'a'\n",
    "    \n",
    "\n",
    "    # Return the animal's name with an article.\n",
    "    def full_name(self):\n",
    "        if self.is_leaf():\n",
    "            return self.article() + ' ' + self.question\n",
    "\n",
    "    # Return True if this is a leaf node (which represents an animal).\n",
    "    def is_leaf(self):\n",
    "        if self.yes_child == None and self.no_child == None:\n",
    "            return True\n",
    "\n",
    "    # Ask this node's question and move to the appropriate child.\n",
    "    # Return True if we keep playing.\n",
    "    def ask_question(self):\n",
    "        \n",
    "        \n",
    "        if not self.is_leaf():\n",
    "            answer=input(self.question+\": \").lower()\n",
    "            #print(\"test 2  \" + answer)\n",
    "            #print(self.__dict__)\n",
    "            if answer == 'q':\n",
    "                return True\n",
    "            elif answer == 'y':\n",
    "                self.yes_child.ask_question()\n",
    "            elif answer == 'n':\n",
    "                self.no_child.ask_question()\n",
    "        else:\n",
    "            answer2 = input(f'Is {self.question} the right animal? ').lower()\n",
    "            \n",
    "            if answer2 == 'q':\n",
    "                return True\n",
    "            elif answer2 == 'y':\n",
    "                print(\"You have found the animal\")\n",
    "                \n",
    "            elif answer2 == 'n':\n",
    "                print(\"We did not find the animal\")\n",
    "                new_animal_str=input(\"Please input the animal? \")\n",
    "                new_animal= AnimalNode(new_animal_str)\n",
    "                question = input(f'Can you provide a question to distinquish between {self.full_name()} and {new_animal.full_name()}')\n",
    "                \n",
    "                question_y_n = 'n'\n",
    "                \n",
    "                while  question_y_n == 'n':\n",
    "                    question_y_n = input(f'Is the answer yes for the {new_animal.question}? ')\n",
    "                    if question_y_n == 'n':\n",
    "                        print(f\"Please reframe the question so the answer is yes for the {new_animal.question}\")\n",
    "                \n",
    "                first_animal = AnimalNode(self.question)\n",
    "                self.question = question\n",
    "                self.no_child = first_animal              \n",
    "                self.yes_child = new_animal\n",
    "                \n",
    "            # We're done gloating or updating. Ask if we should\n",
    "            # play again. Return True if the user wants to quit.\n",
    "            answer = input('Play again? ')\n",
    "            print()\n",
    "            return answer == 'y'"
   ]
  },
  {
   "cell_type": "code",
   "execution_count": 5,
   "id": "f5aa3f0e",
   "metadata": {},
   "outputs": [],
   "source": [
    "def play_game():\n",
    "    # Initialize the tree.\n",
    "    root = AnimalNode('platypus')\n",
    "\n",
    "    # Display instructions.\n",
    "    print('Answer y for Yes, n for No, and q for Quit\\n')\n",
    "\n",
    "    # Repeat until the user quits.\n",
    "    while root.ask_question():\n",
    "        pass"
   ]
  },
  {
   "cell_type": "code",
   "execution_count": 6,
   "id": "99ecfb3e",
   "metadata": {},
   "outputs": [
    {
     "name": "stdout",
     "output_type": "stream",
     "text": [
      "Answer y for Yes, n for No, and q for Quit\n",
      "\n",
      "We did not find the animal\n",
      "\n",
      "We did not find the animal\n",
      "\n"
     ]
    }
   ],
   "source": [
    "# Play.\n",
    "play_game()"
   ]
  }
 ],
 "metadata": {
  "kernelspec": {
   "display_name": "Python 3 (ipykernel)",
   "language": "python",
   "name": "python3"
  },
  "language_info": {
   "codemirror_mode": {
    "name": "ipython",
    "version": 3
   },
   "file_extension": ".py",
   "mimetype": "text/x-python",
   "name": "python",
   "nbconvert_exporter": "python",
   "pygments_lexer": "ipython3",
   "version": "3.10.12"
  }
 },
 "nbformat": 4,
 "nbformat_minor": 5
}
